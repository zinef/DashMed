{
 "cells": [
  {
   "cell_type": "code",
   "execution_count": 1,
   "metadata": {},
   "outputs": [
    {
     "name": "stderr",
     "output_type": "stream",
     "text": [
      "[nltk_data] Downloading package stopwords to\n",
      "[nltk_data]     C:\\Users\\zine-\\AppData\\Roaming\\nltk_data...\n",
      "[nltk_data]   Package stopwords is already up-to-date!\n",
      "[nltk_data] Downloading package wordnet to\n",
      "[nltk_data]     C:\\Users\\zine-\\AppData\\Roaming\\nltk_data...\n",
      "[nltk_data]   Package wordnet is already up-to-date!\n",
      "[nltk_data] Downloading package omw-1.4 to\n",
      "[nltk_data]     C:\\Users\\zine-\\AppData\\Roaming\\nltk_data...\n",
      "[nltk_data]   Package omw-1.4 is already up-to-date!\n"
     ]
    },
    {
     "name": "stdout",
     "output_type": "stream",
     "text": [
      "c:\\Users\\zine-\\Documents\\Projets\\TER\\backend\\DashMed\\resources\\words\\queries.txt\n",
      "'Abstract'\n",
      "'Abstract'\n"
     ]
    }
   ],
   "source": [
    "from DashMed.dataloader import dataloader\n",
    "from DashMed.vectorizer import vectorizer"
   ]
  },
  {
   "cell_type": "code",
   "execution_count": 2,
   "metadata": {},
   "outputs": [],
   "source": [
    "vectorizer.vectorize(method='tf')"
   ]
  },
  {
   "cell_type": "code",
   "execution_count": 3,
   "metadata": {},
   "outputs": [],
   "source": [
    "my_vectorizer,X = vectorizer.get_params()"
   ]
  },
  {
   "cell_type": "code",
   "execution_count": 4,
   "metadata": {},
   "outputs": [
    {
     "data": {
      "text/plain": [
       "<61x2459 sparse matrix of type '<class 'numpy.int64'>'\n",
       "\twith 6008 stored elements in Compressed Sparse Row format>"
      ]
     },
     "execution_count": 4,
     "metadata": {},
     "output_type": "execute_result"
    }
   ],
   "source": [
    "X"
   ]
  },
  {
   "cell_type": "code",
   "execution_count": 5,
   "metadata": {},
   "outputs": [],
   "source": [
    "df = vectorizer.to_df()"
   ]
  },
  {
   "cell_type": "code",
   "execution_count": 6,
   "metadata": {},
   "outputs": [
    {
     "data": {
      "text/html": [
       "<div>\n",
       "<style scoped>\n",
       "    .dataframe tbody tr th:only-of-type {\n",
       "        vertical-align: middle;\n",
       "    }\n",
       "\n",
       "    .dataframe tbody tr th {\n",
       "        vertical-align: top;\n",
       "    }\n",
       "\n",
       "    .dataframe thead th {\n",
       "        text-align: right;\n",
       "    }\n",
       "</style>\n",
       "<table border=\"1\" class=\"dataframe\">\n",
       "  <thead>\n",
       "    <tr style=\"text-align: right;\">\n",
       "      <th></th>\n",
       "      <th>abdominal</th>\n",
       "      <th>ability</th>\n",
       "      <th>able</th>\n",
       "      <th>abnormal</th>\n",
       "      <th>abnormality</th>\n",
       "      <th>abortive</th>\n",
       "      <th>abruption</th>\n",
       "      <th>absence</th>\n",
       "      <th>absolute</th>\n",
       "      <th>abstracted</th>\n",
       "      <th>...</th>\n",
       "      <th>xuzhou</th>\n",
       "      <th>year</th>\n",
       "      <th>years</th>\n",
       "      <th>yet</th>\n",
       "      <th>yielding</th>\n",
       "      <th>york</th>\n",
       "      <th>yorkshire</th>\n",
       "      <th>young</th>\n",
       "      <th>younger</th>\n",
       "      <th>zero</th>\n",
       "    </tr>\n",
       "  </thead>\n",
       "  <tbody>\n",
       "    <tr>\n",
       "      <th>0</th>\n",
       "      <td>0</td>\n",
       "      <td>0</td>\n",
       "      <td>0</td>\n",
       "      <td>0</td>\n",
       "      <td>0</td>\n",
       "      <td>0</td>\n",
       "      <td>0</td>\n",
       "      <td>0</td>\n",
       "      <td>0</td>\n",
       "      <td>0</td>\n",
       "      <td>...</td>\n",
       "      <td>0</td>\n",
       "      <td>0</td>\n",
       "      <td>0</td>\n",
       "      <td>0</td>\n",
       "      <td>0</td>\n",
       "      <td>0</td>\n",
       "      <td>0</td>\n",
       "      <td>0</td>\n",
       "      <td>0</td>\n",
       "      <td>0</td>\n",
       "    </tr>\n",
       "    <tr>\n",
       "      <th>1</th>\n",
       "      <td>0</td>\n",
       "      <td>0</td>\n",
       "      <td>0</td>\n",
       "      <td>0</td>\n",
       "      <td>0</td>\n",
       "      <td>0</td>\n",
       "      <td>0</td>\n",
       "      <td>0</td>\n",
       "      <td>0</td>\n",
       "      <td>0</td>\n",
       "      <td>...</td>\n",
       "      <td>0</td>\n",
       "      <td>1</td>\n",
       "      <td>0</td>\n",
       "      <td>0</td>\n",
       "      <td>0</td>\n",
       "      <td>0</td>\n",
       "      <td>0</td>\n",
       "      <td>0</td>\n",
       "      <td>0</td>\n",
       "      <td>0</td>\n",
       "    </tr>\n",
       "    <tr>\n",
       "      <th>2</th>\n",
       "      <td>0</td>\n",
       "      <td>0</td>\n",
       "      <td>0</td>\n",
       "      <td>0</td>\n",
       "      <td>0</td>\n",
       "      <td>0</td>\n",
       "      <td>0</td>\n",
       "      <td>0</td>\n",
       "      <td>0</td>\n",
       "      <td>0</td>\n",
       "      <td>...</td>\n",
       "      <td>0</td>\n",
       "      <td>0</td>\n",
       "      <td>0</td>\n",
       "      <td>0</td>\n",
       "      <td>0</td>\n",
       "      <td>0</td>\n",
       "      <td>0</td>\n",
       "      <td>0</td>\n",
       "      <td>0</td>\n",
       "      <td>0</td>\n",
       "    </tr>\n",
       "    <tr>\n",
       "      <th>3</th>\n",
       "      <td>0</td>\n",
       "      <td>0</td>\n",
       "      <td>0</td>\n",
       "      <td>0</td>\n",
       "      <td>0</td>\n",
       "      <td>0</td>\n",
       "      <td>0</td>\n",
       "      <td>0</td>\n",
       "      <td>0</td>\n",
       "      <td>1</td>\n",
       "      <td>...</td>\n",
       "      <td>0</td>\n",
       "      <td>1</td>\n",
       "      <td>0</td>\n",
       "      <td>0</td>\n",
       "      <td>0</td>\n",
       "      <td>0</td>\n",
       "      <td>0</td>\n",
       "      <td>0</td>\n",
       "      <td>0</td>\n",
       "      <td>0</td>\n",
       "    </tr>\n",
       "    <tr>\n",
       "      <th>4</th>\n",
       "      <td>0</td>\n",
       "      <td>0</td>\n",
       "      <td>0</td>\n",
       "      <td>0</td>\n",
       "      <td>0</td>\n",
       "      <td>0</td>\n",
       "      <td>0</td>\n",
       "      <td>0</td>\n",
       "      <td>0</td>\n",
       "      <td>0</td>\n",
       "      <td>...</td>\n",
       "      <td>0</td>\n",
       "      <td>1</td>\n",
       "      <td>0</td>\n",
       "      <td>0</td>\n",
       "      <td>0</td>\n",
       "      <td>0</td>\n",
       "      <td>0</td>\n",
       "      <td>0</td>\n",
       "      <td>0</td>\n",
       "      <td>0</td>\n",
       "    </tr>\n",
       "    <tr>\n",
       "      <th>...</th>\n",
       "      <td>...</td>\n",
       "      <td>...</td>\n",
       "      <td>...</td>\n",
       "      <td>...</td>\n",
       "      <td>...</td>\n",
       "      <td>...</td>\n",
       "      <td>...</td>\n",
       "      <td>...</td>\n",
       "      <td>...</td>\n",
       "      <td>...</td>\n",
       "      <td>...</td>\n",
       "      <td>...</td>\n",
       "      <td>...</td>\n",
       "      <td>...</td>\n",
       "      <td>...</td>\n",
       "      <td>...</td>\n",
       "      <td>...</td>\n",
       "      <td>...</td>\n",
       "      <td>...</td>\n",
       "      <td>...</td>\n",
       "      <td>...</td>\n",
       "    </tr>\n",
       "    <tr>\n",
       "      <th>56</th>\n",
       "      <td>0</td>\n",
       "      <td>0</td>\n",
       "      <td>0</td>\n",
       "      <td>0</td>\n",
       "      <td>0</td>\n",
       "      <td>0</td>\n",
       "      <td>0</td>\n",
       "      <td>0</td>\n",
       "      <td>0</td>\n",
       "      <td>0</td>\n",
       "      <td>...</td>\n",
       "      <td>0</td>\n",
       "      <td>0</td>\n",
       "      <td>0</td>\n",
       "      <td>0</td>\n",
       "      <td>0</td>\n",
       "      <td>0</td>\n",
       "      <td>0</td>\n",
       "      <td>0</td>\n",
       "      <td>0</td>\n",
       "      <td>0</td>\n",
       "    </tr>\n",
       "    <tr>\n",
       "      <th>57</th>\n",
       "      <td>0</td>\n",
       "      <td>0</td>\n",
       "      <td>0</td>\n",
       "      <td>0</td>\n",
       "      <td>0</td>\n",
       "      <td>0</td>\n",
       "      <td>0</td>\n",
       "      <td>1</td>\n",
       "      <td>0</td>\n",
       "      <td>0</td>\n",
       "      <td>...</td>\n",
       "      <td>0</td>\n",
       "      <td>0</td>\n",
       "      <td>0</td>\n",
       "      <td>0</td>\n",
       "      <td>0</td>\n",
       "      <td>0</td>\n",
       "      <td>0</td>\n",
       "      <td>0</td>\n",
       "      <td>0</td>\n",
       "      <td>0</td>\n",
       "    </tr>\n",
       "    <tr>\n",
       "      <th>58</th>\n",
       "      <td>0</td>\n",
       "      <td>0</td>\n",
       "      <td>0</td>\n",
       "      <td>0</td>\n",
       "      <td>0</td>\n",
       "      <td>0</td>\n",
       "      <td>0</td>\n",
       "      <td>0</td>\n",
       "      <td>0</td>\n",
       "      <td>0</td>\n",
       "      <td>...</td>\n",
       "      <td>0</td>\n",
       "      <td>1</td>\n",
       "      <td>0</td>\n",
       "      <td>0</td>\n",
       "      <td>0</td>\n",
       "      <td>0</td>\n",
       "      <td>0</td>\n",
       "      <td>0</td>\n",
       "      <td>0</td>\n",
       "      <td>0</td>\n",
       "    </tr>\n",
       "    <tr>\n",
       "      <th>59</th>\n",
       "      <td>0</td>\n",
       "      <td>0</td>\n",
       "      <td>0</td>\n",
       "      <td>0</td>\n",
       "      <td>0</td>\n",
       "      <td>0</td>\n",
       "      <td>0</td>\n",
       "      <td>0</td>\n",
       "      <td>0</td>\n",
       "      <td>0</td>\n",
       "      <td>...</td>\n",
       "      <td>0</td>\n",
       "      <td>0</td>\n",
       "      <td>0</td>\n",
       "      <td>0</td>\n",
       "      <td>0</td>\n",
       "      <td>0</td>\n",
       "      <td>0</td>\n",
       "      <td>0</td>\n",
       "      <td>0</td>\n",
       "      <td>0</td>\n",
       "    </tr>\n",
       "    <tr>\n",
       "      <th>60</th>\n",
       "      <td>0</td>\n",
       "      <td>0</td>\n",
       "      <td>0</td>\n",
       "      <td>1</td>\n",
       "      <td>1</td>\n",
       "      <td>0</td>\n",
       "      <td>0</td>\n",
       "      <td>0</td>\n",
       "      <td>0</td>\n",
       "      <td>0</td>\n",
       "      <td>...</td>\n",
       "      <td>0</td>\n",
       "      <td>0</td>\n",
       "      <td>0</td>\n",
       "      <td>0</td>\n",
       "      <td>0</td>\n",
       "      <td>0</td>\n",
       "      <td>0</td>\n",
       "      <td>0</td>\n",
       "      <td>0</td>\n",
       "      <td>0</td>\n",
       "    </tr>\n",
       "  </tbody>\n",
       "</table>\n",
       "<p>61 rows × 2459 columns</p>\n",
       "</div>"
      ],
      "text/plain": [
       "    abdominal  ability  able  abnormal  abnormality  abortive  abruption  \\\n",
       "0           0        0     0         0            0         0          0   \n",
       "1           0        0     0         0            0         0          0   \n",
       "2           0        0     0         0            0         0          0   \n",
       "3           0        0     0         0            0         0          0   \n",
       "4           0        0     0         0            0         0          0   \n",
       "..        ...      ...   ...       ...          ...       ...        ...   \n",
       "56          0        0     0         0            0         0          0   \n",
       "57          0        0     0         0            0         0          0   \n",
       "58          0        0     0         0            0         0          0   \n",
       "59          0        0     0         0            0         0          0   \n",
       "60          0        0     0         1            1         0          0   \n",
       "\n",
       "    absence  absolute  abstracted  ...  xuzhou  year  years  yet  yielding  \\\n",
       "0         0         0           0  ...       0     0      0    0         0   \n",
       "1         0         0           0  ...       0     1      0    0         0   \n",
       "2         0         0           0  ...       0     0      0    0         0   \n",
       "3         0         0           1  ...       0     1      0    0         0   \n",
       "4         0         0           0  ...       0     1      0    0         0   \n",
       "..      ...       ...         ...  ...     ...   ...    ...  ...       ...   \n",
       "56        0         0           0  ...       0     0      0    0         0   \n",
       "57        1         0           0  ...       0     0      0    0         0   \n",
       "58        0         0           0  ...       0     1      0    0         0   \n",
       "59        0         0           0  ...       0     0      0    0         0   \n",
       "60        0         0           0  ...       0     0      0    0         0   \n",
       "\n",
       "    york  yorkshire  young  younger  zero  \n",
       "0      0          0      0        0     0  \n",
       "1      0          0      0        0     0  \n",
       "2      0          0      0        0     0  \n",
       "3      0          0      0        0     0  \n",
       "4      0          0      0        0     0  \n",
       "..   ...        ...    ...      ...   ...  \n",
       "56     0          0      0        0     0  \n",
       "57     0          0      0        0     0  \n",
       "58     0          0      0        0     0  \n",
       "59     0          0      0        0     0  \n",
       "60     0          0      0        0     0  \n",
       "\n",
       "[61 rows x 2459 columns]"
      ]
     },
     "execution_count": 6,
     "metadata": {},
     "output_type": "execute_result"
    }
   ],
   "source": [
    "df"
   ]
  },
  {
   "cell_type": "code",
   "execution_count": 7,
   "metadata": {},
   "outputs": [],
   "source": [
    "from sklearn.decomposition import PCA"
   ]
  },
  {
   "cell_type": "code",
   "execution_count": 8,
   "metadata": {},
   "outputs": [
    {
     "name": "stderr",
     "output_type": "stream",
     "text": [
      "C:\\Users\\zine-\\anaconda3\\envs\\myter\\lib\\site-packages\\sklearn\\utils\\validation.py:593: FutureWarning: np.matrix usage is deprecated in 1.0 and will raise a TypeError in 1.2. Please convert to a numpy array with np.asarray. For more information see: https://numpy.org/doc/stable/reference/generated/numpy.matrix.html\n",
      "  warnings.warn(\n"
     ]
    }
   ],
   "source": [
    "pca = PCA(n_components=2).fit(X.todense())"
   ]
  },
  {
   "cell_type": "code",
   "execution_count": 9,
   "metadata": {},
   "outputs": [
    {
     "name": "stderr",
     "output_type": "stream",
     "text": [
      "C:\\Users\\zine-\\anaconda3\\envs\\myter\\lib\\site-packages\\sklearn\\utils\\validation.py:593: FutureWarning: np.matrix usage is deprecated in 1.0 and will raise a TypeError in 1.2. Please convert to a numpy array with np.asarray. For more information see: https://numpy.org/doc/stable/reference/generated/numpy.matrix.html\n",
      "  warnings.warn(\n"
     ]
    }
   ],
   "source": [
    "data2D = pca.transform(X.todense())"
   ]
  },
  {
   "cell_type": "code",
   "execution_count": 10,
   "metadata": {},
   "outputs": [],
   "source": [
    "import matplotlib.pyplot as plt"
   ]
  },
  {
   "cell_type": "code",
   "execution_count": 11,
   "metadata": {},
   "outputs": [
    {
     "data": {
      "text/plain": [
       "<matplotlib.collections.PathCollection at 0x1f8114682e0>"
      ]
     },
     "execution_count": 11,
     "metadata": {},
     "output_type": "execute_result"
    },
    {
     "data": {
      "image/png": "[encoded data removed]",
      "text/plain": [
       "<Figure size 432x288 with 1 Axes>"
      ]
     },
     "metadata": {
      "needs_background": "light"
     },
     "output_type": "display_data"
    }
   ],
   "source": [
    "plt.scatter(data2D[:,0], data2D[:,1])"
   ]
  },
  {
   "cell_type": "code",
   "execution_count": 12,
   "metadata": {},
   "outputs": [],
   "source": [
    "import numpy as np"
   ]
  },
  {
   "cell_type": "code",
   "execution_count": 13,
   "metadata": {},
   "outputs": [],
   "source": [
    "def plot_nb_pc_to_keep(X):\n",
    "    pca = PCA().fit(X)\n",
    "    print(pca.explained_variance_ratio_)\n",
    "    plt.figure(figsize=(10,7))\n",
    "    plt.plot(np.cumsum(pca.explained_variance_ratio_), color='k', lw=2)\n",
    "    print()\n",
    "    plt.xlabel('Number of components')\n",
    "    plt.ylabel('Total explained variance')\n",
    "    plt.yticks(np.arange(0, 1.1, 0.1))\n",
    "    plt.axhline(0.9, c='r')\n",
    "    plt.show()\n"
   ]
  },
  {
   "cell_type": "code",
   "execution_count": 14,
   "metadata": {},
   "outputs": [],
   "source": [
    "from sklearn.preprocessing import StandardScaler,Normalizer"
   ]
  },
  {
   "cell_type": "code",
   "execution_count": 15,
   "metadata": {},
   "outputs": [],
   "source": [
    "scaler = StandardScaler()"
   ]
  },
  {
   "cell_type": "code",
   "execution_count": 16,
   "metadata": {},
   "outputs": [],
   "source": [
    "normalizer = Normalizer()"
   ]
  },
  {
   "cell_type": "code",
   "execution_count": 17,
   "metadata": {},
   "outputs": [
    {
     "name": "stderr",
     "output_type": "stream",
     "text": [
      "C:\\Users\\zine-\\anaconda3\\envs\\myter\\lib\\site-packages\\sklearn\\utils\\validation.py:593: FutureWarning: np.matrix usage is deprecated in 1.0 and will raise a TypeError in 1.2. Please convert to a numpy array with np.asarray. For more information see: https://numpy.org/doc/stable/reference/generated/numpy.matrix.html\n",
      "  warnings.warn(\n",
      "C:\\Users\\zine-\\anaconda3\\envs\\myter\\lib\\site-packages\\sklearn\\utils\\validation.py:593: FutureWarning: np.matrix usage is deprecated in 1.0 and will raise a TypeError in 1.2. Please convert to a numpy array with np.asarray. For more information see: https://numpy.org/doc/stable/reference/generated/numpy.matrix.html\n",
      "  warnings.warn(\n"
     ]
    }
   ],
   "source": [
    "mat = normalizer.fit_transform(X.todense())"
   ]
  },
  {
   "cell_type": "code",
   "execution_count": 18,
   "metadata": {},
   "outputs": [
    {
     "name": "stdout",
     "output_type": "stream",
     "text": [
      "[4.85830715e-02 2.92491431e-02 2.68417908e-02 2.48805091e-02\n",
      " 2.36831925e-02 2.33291560e-02 2.23754736e-02 2.18682134e-02\n",
      " 2.17125757e-02 2.10425938e-02 2.07464988e-02 2.01888118e-02\n",
      " 1.96403364e-02 1.93997346e-02 1.93619807e-02 1.89878348e-02\n",
      " 1.84777702e-02 1.82561122e-02 1.80401895e-02 1.75514146e-02\n",
      " 1.73764455e-02 1.72674974e-02 1.70783849e-02 1.68590146e-02\n",
      " 1.66613107e-02 1.65033119e-02 1.62232385e-02 1.60538774e-02\n",
      " 1.58622591e-02 1.56935243e-02 1.55256574e-02 1.53161202e-02\n",
      " 1.51912373e-02 1.50526948e-02 1.48082161e-02 1.43858406e-02\n",
      " 1.42656176e-02 1.42383932e-02 1.40006783e-02 1.38150494e-02\n",
      " 1.34187289e-02 1.33422604e-02 1.32449140e-02 1.30748813e-02\n",
      " 1.27267407e-02 1.25655063e-02 1.24378663e-02 1.22624880e-02\n",
      " 1.20881923e-02 1.19529100e-02 1.18545945e-02 1.17205963e-02\n",
      " 1.15515002e-02 1.11877759e-02 1.07612434e-02 1.06193206e-02\n",
      " 1.04719504e-02 9.99149781e-03 9.43637146e-03 8.89588860e-03\n",
      " 2.48534971e-32]\n",
      "\n"
     ]
    },
    {
     "data": {
      "image/png": "[encoded data removed]",
      "text/plain": [
       "<Figure size 720x504 with 1 Axes>"
      ]
     },
     "metadata": {
      "needs_background": "light"
     },
     "output_type": "display_data"
    }
   ],
   "source": [
    "plot_nb_pc_to_keep(mat)"
   ]
  },
  {
   "cell_type": "code",
   "execution_count": 19,
   "metadata": {},
   "outputs": [
    {
     "data": {
      "text/plain": [
       "<61x2459 sparse matrix of type '<class 'numpy.int64'>'\n",
       "\twith 6008 stored elements in Compressed Sparse Row format>"
      ]
     },
     "execution_count": 19,
     "metadata": {},
     "output_type": "execute_result"
    }
   ],
   "source": [
    "X"
   ]
  },
  {
   "cell_type": "code",
   "execution_count": 20,
   "metadata": {},
   "outputs": [],
   "source": [
    "import pyLDAvis\n",
    "import pyLDAvis.sklearn\n",
    "pyLDAvis.enable_notebook()"
   ]
  },
  {
   "cell_type": "code",
   "execution_count": 21,
   "metadata": {},
   "outputs": [],
   "source": [
    "from sklearn.decomposition import LatentDirichletAllocation"
   ]
  },
  {
   "cell_type": "code",
   "execution_count": 22,
   "metadata": {},
   "outputs": [
    {
     "data": {
      "text/plain": [
       "LatentDirichletAllocation(learning_method='online', n_components=4,\n",
       "                          random_state=0)"
      ]
     },
     "execution_count": 22,
     "metadata": {},
     "output_type": "execute_result"
    }
   ],
   "source": [
    "lda_tf = LatentDirichletAllocation(n_components=4,random_state=0,learning_method='online',learning_offset=10.)\n",
    "lda_tf.fit(X)"
   ]
  },
  {
   "cell_type": "code",
   "execution_count": 30,
   "metadata": {},
   "outputs": [
    {
     "name": "stderr",
     "output_type": "stream",
     "text": [
      "C:\\Users\\zine-\\anaconda3\\envs\\myter\\lib\\site-packages\\sklearn\\utils\\deprecation.py:87: FutureWarning: Function get_feature_names is deprecated; get_feature_names is deprecated in 1.0 and will be removed in 1.2. Please use get_feature_names_out instead.\n",
      "  warnings.warn(msg, category=FutureWarning)\n",
      "C:\\Users\\zine-\\anaconda3\\envs\\myter\\lib\\site-packages\\pyLDAvis\\_prepare.py:246: FutureWarning: In a future version of pandas all arguments of DataFrame.drop except for the argument 'labels' will be keyword-only.\n",
      "  default_term_info = default_term_info.sort_values(\n",
      "C:\\Users\\zine-\\anaconda3\\envs\\myter\\lib\\site-packages\\sklearn\\manifold\\_t_sne.py:780: FutureWarning: The default initialization in TSNE will change from 'random' to 'pca' in 1.2.\n",
      "  warnings.warn(\n",
      "C:\\Users\\zine-\\anaconda3\\envs\\myter\\lib\\site-packages\\sklearn\\manifold\\_t_sne.py:790: FutureWarning: The default learning rate in TSNE will change from 200.0 to 'auto' in 1.2.\n",
      "  warnings.warn(\n",
      "C:\\Users\\zine-\\anaconda3\\envs\\myter\\lib\\site-packages\\sklearn\\manifold\\_t_sne.py:819: FutureWarning: 'square_distances' has been introduced in 0.24 to help phase out legacy squaring behavior. The 'legacy' setting will be removed in 1.1 (renaming of 0.26), and the default setting will be changed to True. In 1.3, 'square_distances' will be removed altogether, and distances will be squared by default. Set 'square_distances'=True to silence this warning.\n",
      "  warnings.warn(\n"
     ]
    },
    {
     "data": {
      "text/html": [
       "\n",
       "<link rel=\"stylesheet\" type=\"text/css\" href=\"https://cdn.jsdelivr.net/gh/bmabey/pyLDAvis@3.3.1/pyLDAvis/js/ldavis.v1.0.0.css\">\n",
       "\n",
       "\n",
       "<div id=\"ldavis_el1206821649788660969624461470\"></div>\n",
       "<script type=\"text/javascript\">\n",
       "\n",
       "var ldavis_el1206821649788660969624461470_data = {\"mdsDat\": {\"x\": [269.5624084472656, 1.782994270324707, 220.81143188476562, 50.533992767333984], \"y\": [-124.80339813232422, -295.0796813964844, -343.8321228027344, -76.05093383789062], \"topics\": [1, 2, 3, 4], \"cluster\": [1, 1, 1, 1], \"Freq\": [34.49519510465117, 33.951020035262, 28.818312621596657, 2.7354722384901735]}, \"tinfo\": {\"Term\": [\"infection\", \"demonstrated\", \"viral\", \"covid\", \"temperature\", \"investigate\", \"level\", \"low\", \"medical\", \"non\", \"end\", \"total\", \"state\", \"characterized\", \"experience\", \"prospective\", \"disease\", \"objective\", \"least\", \"management\", \"mortality\", \"ci\", \"prevalence\", \"care\", \"rare\", \"cross\", \"morbidity\", \"barrier\", \"human\", \"minute\", \"majority\", \"neurology\", \"stratified\", \"additionally\", \"extracted\", \"institution\", \"aor\", \"training\", \"whole\", \"predisposition\", \"selected\", \"many\", \"identification\", \"intrapartum\", \"coded\", \"assessed\", \"school\", \"st\", \"article\", \"exponential\", \"rrs\", \"optimize\", \"older\", \"tertile\", \"manual\", \"obesity\", \"birth\", \"represented\", \"define\", \"top\", \"degree\", \"survey\", \"presence\", \"search\", \"national\", \"child\", \"future\", \"important\", \"level\", \"medical\", \"using\", \"management\", \"second\", \"use\", \"general\", \"study\", \"headache\", \"data\", \"clinical\", \"identify\", \"risk\", \"ci\", \"cancer\", \"rate\", \"characteristic\", \"patient\", \"identified\", \"used\", \"associated\", \"evaluated\", \"may\", \"ratio\", \"year\", \"among\", \"based\", \"also\", \"factor\", \"age\", \"analysis\", \"treatment\", \"significantly\", \"cohort\", \"emergency\", \"survival\", \"grade\", \"recorded\", \"better\", \"recurrent\", \"reaction\", \"admission\", \"analgesic\", \"period\", \"meningitis\", \"longer\", \"presenting\", \"uterine\", \"evaluating\", \"neurological\", \"exclusion\", \"drug\", \"median\", \"modifying\", \"december\", \"subgroup\", \"mm\", \"lower\", \"subsided\", \"multicenter\", \"leukocytosis\", \"pr\", \"examination\", \"holocranial\", \"anti\", \"treated\", \"follow\", \"incidence\", \"higher\", \"department\", \"onset\", \"ci\", \"temperature\", \"respectively\", \"age\", \"included\", \"analysis\", \"associated\", \"group\", \"fever\", \"year\", \"total\", \"time\", \"increased\", \"patient\", \"compared\", \"study\", \"ratio\", \"among\", \"treatment\", \"risk\", \"cancer\", \"neoplasm\", \"diagnosis\", \"factor\", \"high\", \"case\", \"rate\", \"evaluated\", \"viral\", \"em\", \"cm\", \"potentially\", \"nociceptive\", \"tract\", \"preceding\", \"insufficiency\", \"coronaviruses\", \"rarely\", \"together\", \"organ\", \"brief\", \"discus\", \"detection\", \"bladder\", \"adolescent\", \"like\", \"recruited\", \"simulation\", \"conserved\", \"sars\", \"evolving\", \"start\", \"lsm\", \"unclear\", \"point\", \"along\", \"quickly\", \"several\", \"mechanism\", \"review\", \"activation\", \"molecular\", \"described\", \"cov\", \"covid\", \"well\", \"setting\", \"coronavirus\", \"brain\", \"across\", \"tissue\", \"based\", \"efficacy\", \"specifically\", \"case\", \"protein\", \"paper\", \"cough\", \"including\", \"aimed\", \"disease\", \"acute\", \"care\", \"patient\", \"present\", \"result\", \"old\", \"study\", \"clinical\", \"fever\", \"female\", \"one\", \"symptom\", \"new\", \"among\", \"may\", \"diagnosis\", \"headache\", \"high\", \"treatment\", \"observed\", \"survivor\", \"system\", \"significant\", \"within\", \"risk\", \"associated\", \"year\", \"factor\", \"included\", \"solute\", \"inhibits\", \"character\", \"harmonized\", \"travel\", \"descent\", \"feeling\", \"airplane\", \"ambient\", \"rampant\", \"water\", \"underscoring\", \"overcome\", \"spontaneously\", \"passenger\", \"trip\", \"emotional\", \"painful\", \"rising\", \"concert\", \"natural\", \"ascent\", \"lasting\", \"takeoff\", \"landing\", \"food\", \"essential\", \"retention\", \"suppression\", \"plane\", \"brazil\", \"exclusively\", \"bothersome\", \"overlooking\", \"gastrointestinal\", \"improves\", \"demonstrated\", \"predominant\", \"infection\", \"favor\", \"finally\", \"study\", \"among\", \"prevalence\", \"patient\", \"disease\", \"fever\", \"investigate\", \"non\", \"however\", \"management\", \"cross\", \"response\", \"end\", \"temperature\", \"could\", \"viral\", \"mortality\", \"characterized\", \"headache\", \"antipyretic\", \"time\", \"within\", \"occurring\", \"state\", \"phase\", \"care\", \"total\", \"sectional\", \"low\", \"medical\", \"using\", \"new\"], \"Freq\": [6.0, 4.0, 3.0, 5.0, 5.0, 6.0, 5.0, 4.0, 7.0, 7.0, 4.0, 9.0, 4.0, 4.0, 4.0, 3.0, 10.0, 3.0, 3.0, 8.0, 5.0, 16.0, 3.0, 7.0, 2.0, 4.0, 2.0, 2.0, 2.0, 2.0, 3.4461383576389664, 2.84115528464044, 2.808799116754887, 2.75929135972967, 2.761080268209684, 2.1755072793220664, 2.204972704011332, 2.167514525182945, 2.1538959163600695, 2.2033672028825753, 2.1451369195344787, 3.470301196735472, 3.3814273847775973, 1.60235356039484, 1.5964340736379254, 4.699413254239888, 1.5883789378533053, 1.5578102475481104, 1.555678400375375, 1.5495483774684278, 1.5691526565934135, 1.582067171574121, 1.5579392672568442, 1.5657722577918647, 1.5515969651956965, 1.5557686463812237, 1.5757177978215282, 1.5378065350568904, 1.5728328798718476, 1.5608444111962916, 2.8186092591043685, 2.848022515419725, 2.8386497784861584, 2.799623247172255, 2.7662263140021603, 3.4805253371520513, 3.457601745815276, 3.4325755927495365, 3.4357480068246393, 4.711509371403446, 5.3244158408304125, 4.711020420503302, 4.084204135911378, 4.088063605800695, 3.4390481855333173, 11.589722167744684, 5.9592169748443995, 5.446590916590942, 6.6044869610149135, 4.123308948707779, 6.570320683309189, 6.5994350678651115, 6.011678120344412, 4.684888322103141, 4.11601389294179, 7.193096260248579, 4.725900015842903, 4.695374928376229, 5.937847666344927, 4.698095624228533, 4.755935343402987, 4.743864108978133, 5.3455931817993205, 5.354948819590726, 4.715960122825979, 4.038651466194801, 4.687494015103253, 4.687651284931978, 4.67196825553149, 4.687037662660825, 4.1269135604699185, 4.118911398633968, 3.3313763569981387, 2.7917058981782246, 2.7344000754962305, 2.6941557530413496, 2.1655264584660547, 2.1648442599829334, 2.178061927425846, 4.03143228762985, 2.1373024014319846, 2.187749334374885, 2.1819620003210427, 2.1779948856853455, 3.987590043658745, 2.163489843210468, 2.129535892589882, 2.0902303725200433, 2.0770587523096387, 3.4250046359631714, 5.305120641937709, 1.5594475496193219, 3.3263059294072566, 1.5632899671936946, 1.5778902893570554, 3.3087836691122177, 1.6077376010208793, 1.5599202174555276, 1.5728369271220213, 1.5530267589598479, 1.5057529973579333, 1.5370293108210307, 2.8213206709627756, 4.686485366767112, 4.6441703819148294, 5.253965082638372, 5.853219335476259, 3.3666255319604965, 3.3443532844077004, 8.877837298478479, 3.347211224702082, 5.270801769786373, 7.287086098146495, 7.715894194062716, 7.074617150353752, 8.408026162278059, 5.277469025988454, 7.776923758551029, 7.778366204633123, 5.3178837925093045, 5.935794649591042, 5.85437713351865, 9.568805959700128, 5.1128842846945455, 10.947171280104442, 5.922668130232235, 7.114579105362258, 6.466513712779892, 6.455273127262998, 5.930462222121196, 5.235456451830085, 5.32724985634585, 5.3429014118004545, 5.268631745138553, 5.318616267744704, 4.717231970624945, 4.728578377511198, 2.5709896827916037, 2.031979756340319, 2.0291881911841845, 1.4826494535831305, 1.4685370624071923, 1.4841496047393918, 1.4532195478516459, 1.4737233241065135, 1.4639128359803708, 1.4761732164888846, 1.4860890401570706, 1.446137262112809, 1.4631803317001548, 1.4408772632314095, 1.47738771748161, 1.4757656078502523, 1.455032725159145, 1.4591235271146163, 1.451536432390888, 1.443708634752974, 1.4512934468559062, 2.643917754318538, 1.4411330392829098, 1.4474352439118674, 1.4589417123131063, 1.4245185187722817, 2.6216178761480826, 2.6418164069274868, 1.4870589616037546, 1.4305278556321614, 2.5955792377327813, 3.8104054526669286, 2.584728451398666, 2.620721878931283, 2.6174941249285912, 2.582819535115912, 3.1446942436488907, 3.7267281897314475, 2.6284877792647, 2.61152350819982, 2.0405241816572572, 2.05702253547926, 2.0504505172017296, 5.477559424059943, 2.028902235640104, 2.0025644992894707, 5.534340470454901, 2.0266273276319757, 1.9873515543679925, 2.012132995745701, 4.395705593513674, 3.279704352091646, 4.3374100506802815, 2.650449656183339, 3.2740548802983134, 6.889102757767871, 3.1937868586135902, 4.352574646727827, 2.634738281864949, 7.42121733208203, 5.035406394555744, 4.916697668021322, 3.1865471732827904, 3.781258859541188, 3.158670448588622, 3.186875593615856, 4.4375303404466155, 3.846659011413222, 3.8311581989543653, 3.812987565050032, 3.7984080146165615, 3.914508490725045, 3.220907777166385, 3.1902196326157473, 3.197371836373148, 3.1696624070382327, 3.242811336531193, 3.3116377094290543, 3.2759552080721086, 3.262018503245677, 3.2295479604057036, 3.22462738127053, 0.17226545514859795, 0.17428074144203842, 0.1703160696957874, 0.17238364700477865, 0.17065359789639542, 0.17138243211788579, 0.17239808664401768, 0.17406516385424248, 0.16664331080232392, 0.1730435929589466, 0.17282172692893144, 0.17152859873853973, 0.17372848387470183, 0.16950537667848986, 0.17208164930112485, 0.17812592723068044, 0.16901162186306368, 0.17559687557873482, 0.17388902850885424, 0.16990737770095757, 0.1733476212869118, 0.16948519067642653, 0.16685482897396817, 0.17385776124993374, 0.1703772838850485, 0.17024202580433262, 0.16857156378547758, 0.16899309051191153, 0.17350466848245025, 0.1702827549164372, 0.1730363151546528, 0.17531379273255354, 0.174511683078535, 0.17299918481421098, 0.17290449891284831, 0.17345693519552158, 0.2880311266597414, 0.17246964345863447, 0.30147484107966366, 0.17098868027883182, 0.17190414823400907, 0.3252904795969852, 0.22154988565941564, 0.19168015470616062, 0.22412109246957077, 0.2103007829754269, 0.2159774408925461, 0.19889470496750172, 0.19664078936369286, 0.19782690302396103, 0.1956077567943544, 0.18828012352578002, 0.19495610845224876, 0.18674135267595274, 0.18846556075078832, 0.17999538044361685, 0.18273860941415537, 0.18606508365810664, 0.18394610691881547, 0.19184131386070713, 0.1769775084722604, 0.18954119830716976, 0.1876590442996605, 0.18133098959021537, 0.1819512900424051, 0.17872337161158453, 0.18482038145720595, 0.18589592059260615, 0.1825877214253031, 0.1822398276087186, 0.1832356867181813, 0.18237215010387503, 0.1820815608925209], \"Total\": [6.0, 4.0, 3.0, 5.0, 5.0, 6.0, 5.0, 4.0, 7.0, 7.0, 4.0, 9.0, 4.0, 4.0, 4.0, 3.0, 10.0, 3.0, 3.0, 8.0, 5.0, 16.0, 3.0, 7.0, 2.0, 4.0, 2.0, 2.0, 2.0, 2.0, 4.131631639589384, 3.5107859746497536, 3.4956401197096185, 3.4453025778519133, 3.464113613230817, 2.8181140126831585, 2.867255388026096, 2.853589491388658, 2.8384548790878306, 2.9107992210370277, 2.8434559832233886, 4.704249368537374, 4.651814893270647, 2.237465929560221, 2.236884612094746, 6.588567139743053, 2.2314755988491726, 2.189546563972324, 2.1881733757842796, 2.181001450654056, 2.2106722013212514, 2.2378542622714837, 2.206651196188506, 2.218207274769515, 2.199451378277839, 2.2076774632501497, 2.23769939293057, 2.1838810074509967, 2.2341981287673915, 2.217668099061787, 4.060534191343688, 4.119670390406765, 4.122341604189602, 4.111764455762816, 4.124253686404263, 5.34198500759194, 5.369748379467751, 5.341777331453687, 5.4446535329317065, 7.883994485409596, 9.828745785201797, 8.546239685132912, 7.207704570909254, 7.338178068140361, 6.012405455894782, 30.28340125952814, 12.832239669705352, 11.571249980261092, 16.33049219263279, 7.834624560131615, 16.432544232979513, 16.581124249590115, 14.651022250665537, 9.814996834426612, 8.321858406435569, 23.875126070186152, 10.910835035779012, 10.933397051178467, 17.717434534300963, 11.574968315489594, 12.278482570802316, 12.247293004288283, 16.477419768573537, 17.128608151059016, 12.538837814311227, 8.30322457595549, 13.332181765109667, 13.516988648153344, 13.39283237060073, 15.162478552243815, 10.30040347368487, 10.25178417605122, 4.059088142716878, 3.5006180742642026, 3.485316093580725, 3.4532065059553023, 2.826447034526786, 2.8359400972761604, 2.8562423207381302, 5.289936135430026, 2.8057607328555396, 2.8730228086987206, 2.873337168487938, 2.8825107939815147, 5.294621526132336, 2.8773004960657853, 2.849295674195802, 2.7982091412930026, 2.814225844246777, 4.705247669432049, 7.289916212659131, 2.1883062643430558, 4.674667378435655, 2.2159011099587986, 2.237550384840727, 4.693416400566576, 2.283305714625257, 2.218482591662114, 2.2389034572728415, 2.2161835014776257, 2.1559366820137433, 2.2010358568267643, 4.069325594967533, 7.215639278344842, 7.205871916052649, 8.394507721234966, 9.712775260024804, 5.237610666926898, 5.213955638933524, 16.581124249590115, 5.357795432726231, 9.150483868047832, 13.516988648153344, 14.491292588528905, 13.39283237060073, 17.717434534300963, 9.575637993183603, 16.41186019685503, 16.477419768573537, 9.834205723322423, 11.644686318628622, 11.471890624655828, 23.875126070186152, 9.675351151280381, 30.28340125952814, 12.247293004288283, 17.128608151059016, 15.162478552243815, 16.432544232979513, 14.651022250665537, 12.108007668893064, 12.709714636941067, 13.332181765109667, 13.24139700155347, 13.74622993663301, 9.814996834426612, 11.574968315489594, 3.3675643661413286, 2.768753057684949, 2.7659452921310472, 2.1281914805973754, 2.1296597392034537, 2.1550281583565782, 2.113387060746503, 2.148908070133773, 2.1468196168788594, 2.1733802068555326, 2.188297606738719, 2.129977997228066, 2.1552121126185675, 2.123770568762707, 2.177622176609381, 2.1758948886238914, 2.145620732995776, 2.1533556571661503, 2.1437014671381056, 2.13684674169687, 2.150383003356042, 3.932679966626454, 2.1487664161494506, 2.1600223033887396, 2.178199244372747, 2.129423002116363, 3.9207834645612856, 3.9541028478365816, 2.2267955164670714, 2.1428443447975543, 3.899691680728428, 5.78272938151232, 3.9028473352010615, 3.9744277713462663, 3.977166637763897, 3.9432760405466243, 5.21728220566577, 7.020699225492951, 4.574371270652207, 4.565119501977525, 3.341270499730654, 3.3933987620681214, 3.3805750388548623, 12.538837814311227, 3.377955732654434, 3.3201814309325024, 13.74622993663301, 3.3862863274131696, 3.307433761159672, 3.3974319015112004, 10.76925607156812, 7.023161945793079, 10.779139109735596, 5.14143299658974, 7.128574119800985, 23.875126070186152, 7.061180021576438, 11.974855584020201, 5.235210705580811, 30.28340125952814, 16.33049219263279, 16.41186019685503, 7.677350158192846, 11.290591476999584, 7.632725647258063, 7.826322671593943, 17.128608151059016, 12.278482570802316, 12.709714636941067, 12.832239669705352, 13.24139700155347, 15.162478552243815, 8.320264204358926, 8.227043026893883, 8.328621882041375, 8.263227706953206, 9.737089725182992, 16.432544232979513, 17.717434534300963, 16.477419768573537, 13.332181765109667, 14.491292588528905, 1.0381996603549102, 1.0643372487590286, 1.0486187636758273, 1.066077492600839, 1.0591672645025554, 1.0661467434826515, 1.0755556219411404, 1.0859636652013154, 1.0413452147960462, 1.08237058428049, 1.083273616223311, 1.0751958670969204, 1.0896564819553882, 1.0642194533711073, 1.0808895643017278, 1.1194203616177918, 1.0655313189664724, 1.109037170741907, 1.0988734897984214, 1.074560319830311, 1.0976714986480103, 1.0750438342625692, 1.0590227762368873, 1.1034998536616734, 1.0823580973588693, 1.0848041327004017, 1.074277429120349, 1.0782023498355555, 1.107684406017141, 1.0872145892931997, 1.1049603281895817, 1.1223821654676684, 1.1168122719115485, 1.1118441683134057, 1.1144201056470708, 1.1338762529455937, 4.874119635872482, 1.1271009813255426, 6.674845317953158, 1.1003937905997991, 1.1270235209272577, 30.28340125952814, 17.128608151059016, 3.540650171842989, 23.875126070186152, 10.779139109735596, 16.41186019685503, 6.6626073998416535, 7.278099254528811, 9.095479731687904, 8.546239685132912, 4.831833627054759, 9.701517678275323, 4.220002608290299, 5.357795432726231, 2.3130667626694286, 3.3675643661413286, 5.291788729721371, 4.147839326925998, 12.832239669705352, 1.710574480956335, 11.644686318628622, 9.737089725182992, 3.5124719380474168, 4.07545089092969, 2.28886614878286, 7.128574119800985, 9.834205723322423, 4.778917708608994, 4.892830981629716, 7.883994485409596, 9.828745785201797, 7.826322671593943], \"Category\": [\"Default\", \"Default\", \"Default\", \"Default\", \"Default\", \"Default\", \"Default\", \"Default\", \"Default\", \"Default\", \"Default\", \"Default\", \"Default\", \"Default\", \"Default\", \"Default\", \"Default\", \"Default\", \"Default\", \"Default\", \"Default\", \"Default\", \"Default\", \"Default\", \"Default\", \"Default\", \"Default\", \"Default\", \"Default\", \"Default\", \"Topic1\", \"Topic1\", \"Topic1\", \"Topic1\", \"Topic1\", \"Topic1\", \"Topic1\", \"Topic1\", \"Topic1\", \"Topic1\", \"Topic1\", \"Topic1\", \"Topic1\", \"Topic1\", \"Topic1\", \"Topic1\", \"Topic1\", \"Topic1\", \"Topic1\", \"Topic1\", \"Topic1\", \"Topic1\", \"Topic1\", \"Topic1\", \"Topic1\", \"Topic1\", \"Topic1\", \"Topic1\", \"Topic1\", \"Topic1\", \"Topic1\", \"Topic1\", \"Topic1\", \"Topic1\", \"Topic1\", \"Topic1\", \"Topic1\", \"Topic1\", \"Topic1\", \"Topic1\", \"Topic1\", \"Topic1\", \"Topic1\", \"Topic1\", \"Topic1\", \"Topic1\", \"Topic1\", \"Topic1\", \"Topic1\", \"Topic1\", \"Topic1\", \"Topic1\", \"Topic1\", \"Topic1\", \"Topic1\", \"Topic1\", \"Topic1\", \"Topic1\", \"Topic1\", \"Topic1\", \"Topic1\", \"Topic1\", \"Topic1\", \"Topic1\", \"Topic1\", \"Topic1\", \"Topic1\", \"Topic1\", \"Topic1\", \"Topic1\", \"Topic1\", \"Topic1\", \"Topic2\", \"Topic2\", \"Topic2\", \"Topic2\", \"Topic2\", \"Topic2\", \"Topic2\", \"Topic2\", \"Topic2\", \"Topic2\", \"Topic2\", \"Topic2\", \"Topic2\", \"Topic2\", \"Topic2\", \"Topic2\", \"Topic2\", \"Topic2\", \"Topic2\", \"Topic2\", \"Topic2\", \"Topic2\", \"Topic2\", \"Topic2\", \"Topic2\", \"Topic2\", \"Topic2\", \"Topic2\", \"Topic2\", \"Topic2\", \"Topic2\", \"Topic2\", \"Topic2\", \"Topic2\", \"Topic2\", \"Topic2\", \"Topic2\", \"Topic2\", \"Topic2\", \"Topic2\", \"Topic2\", \"Topic2\", \"Topic2\", \"Topic2\", \"Topic2\", \"Topic2\", \"Topic2\", \"Topic2\", \"Topic2\", \"Topic2\", \"Topic2\", \"Topic2\", \"Topic2\", \"Topic2\", \"Topic2\", \"Topic2\", \"Topic2\", \"Topic2\", \"Topic2\", \"Topic2\", \"Topic2\", \"Topic2\", \"Topic2\", \"Topic2\", \"Topic2\", \"Topic3\", \"Topic3\", \"Topic3\", \"Topic3\", \"Topic3\", \"Topic3\", \"Topic3\", \"Topic3\", \"Topic3\", \"Topic3\", \"Topic3\", \"Topic3\", \"Topic3\", \"Topic3\", \"Topic3\", \"Topic3\", \"Topic3\", \"Topic3\", \"Topic3\", \"Topic3\", \"Topic3\", \"Topic3\", \"Topic3\", \"Topic3\", \"Topic3\", \"Topic3\", \"Topic3\", \"Topic3\", \"Topic3\", \"Topic3\", \"Topic3\", \"Topic3\", \"Topic3\", \"Topic3\", \"Topic3\", \"Topic3\", \"Topic3\", \"Topic3\", \"Topic3\", \"Topic3\", \"Topic3\", \"Topic3\", \"Topic3\", \"Topic3\", \"Topic3\", \"Topic3\", \"Topic3\", \"Topic3\", \"Topic3\", \"Topic3\", \"Topic3\", \"Topic3\", \"Topic3\", \"Topic3\", \"Topic3\", \"Topic3\", \"Topic3\", \"Topic3\", \"Topic3\", \"Topic3\", \"Topic3\", \"Topic3\", \"Topic3\", \"Topic3\", \"Topic3\", \"Topic3\", \"Topic3\", \"Topic3\", \"Topic3\", \"Topic3\", \"Topic3\", \"Topic3\", \"Topic3\", \"Topic3\", \"Topic3\", \"Topic3\", \"Topic3\", \"Topic3\", \"Topic3\", \"Topic3\", \"Topic3\", \"Topic3\", \"Topic4\", \"Topic4\", \"Topic4\", \"Topic4\", \"Topic4\", \"Topic4\", \"Topic4\", \"Topic4\", \"Topic4\", \"Topic4\", \"Topic4\", \"Topic4\", \"Topic4\", \"Topic4\", \"Topic4\", \"Topic4\", \"Topic4\", \"Topic4\", \"Topic4\", \"Topic4\", \"Topic4\", \"Topic4\", \"Topic4\", \"Topic4\", \"Topic4\", \"Topic4\", \"Topic4\", \"Topic4\", \"Topic4\", \"Topic4\", \"Topic4\", \"Topic4\", \"Topic4\", \"Topic4\", \"Topic4\", \"Topic4\", \"Topic4\", \"Topic4\", \"Topic4\", \"Topic4\", \"Topic4\", \"Topic4\", \"Topic4\", \"Topic4\", \"Topic4\", \"Topic4\", \"Topic4\", \"Topic4\", \"Topic4\", \"Topic4\", \"Topic4\", \"Topic4\", \"Topic4\", \"Topic4\", \"Topic4\", \"Topic4\", \"Topic4\", \"Topic4\", \"Topic4\", \"Topic4\", \"Topic4\", \"Topic4\", \"Topic4\", \"Topic4\", \"Topic4\", \"Topic4\", \"Topic4\", \"Topic4\", \"Topic4\", \"Topic4\", \"Topic4\", \"Topic4\", \"Topic4\"], \"logprob\": [30.0, 29.0, 28.0, 27.0, 26.0, 25.0, 24.0, 23.0, 22.0, 21.0, 20.0, 19.0, 18.0, 17.0, 16.0, 15.0, 14.0, 13.0, 12.0, 11.0, 10.0, 9.0, 8.0, 7.0, 6.0, 5.0, 4.0, 3.0, 2.0, 1.0, -6.4049, -6.5979, -6.6094, -6.6272, -6.6265, -6.8649, -6.8514, -6.8686, -6.8749, -6.8522, -6.8789, -6.3979, -6.4238, -7.1707, -7.1744, -6.0947, -7.1794, -7.1989, -7.2002, -7.2042, -7.1916, -7.1834, -7.1988, -7.1938, -7.2029, -7.2002, -7.1874, -7.2118, -7.1893, -7.1969, -6.6059, -6.5955, -6.5988, -6.6127, -6.6247, -6.395, -6.4016, -6.4088, -6.4079, -6.0921, -5.9698, -6.0922, -6.235, -6.2341, -6.4069, -5.192, -5.8572, -5.9472, -5.7544, -6.2255, -5.7596, -5.7552, -5.8484, -6.0978, -6.2273, -5.669, -6.0891, -6.0956, -5.8608, -6.095, -6.0827, -6.0853, -5.9659, -5.9641, -6.0912, -6.2462, -6.0972, -6.0972, -6.1006, -6.0973, -6.2246, -6.2266, -6.4229, -6.5996, -6.6203, -6.6352, -6.8536, -6.8539, -6.8478, -6.2321, -6.8667, -6.8434, -6.846, -6.8478, -6.2431, -6.8545, -6.8703, -6.889, -6.8953, -6.3951, -5.9576, -7.1819, -6.4244, -7.1794, -7.1702, -6.4297, -7.1514, -7.1816, -7.1734, -7.186, -7.2169, -7.1964, -6.589, -6.0816, -6.0906, -5.9673, -5.8592, -6.4123, -6.419, -5.4427, -6.4181, -5.9641, -5.6401, -5.583, -5.6697, -5.4971, -5.9628, -5.5751, -5.5749, -5.9552, -5.8452, -5.859, -5.3677, -5.9945, -5.2332, -5.8475, -5.6641, -5.7596, -5.7613, -5.8461, -5.9708, -5.9534, -5.9505, -5.9645, -5.955, -6.075, -6.0726, -6.518, -6.7533, -6.7547, -7.0685, -7.0781, -7.0675, -7.0885, -7.0745, -7.0812, -7.0729, -7.0662, -7.0934, -7.0817, -7.0971, -7.0721, -7.0732, -7.0873, -7.0845, -7.0897, -7.0951, -7.0899, -6.4901, -7.0969, -7.0925, -7.0846, -7.1085, -6.4985, -6.4909, -7.0655, -7.1043, -6.5085, -6.1246, -6.5127, -6.4989, -6.5001, -6.5134, -6.3166, -6.1468, -6.4959, -6.5024, -6.7491, -6.7411, -6.7443, -5.7617, -6.7548, -6.7679, -5.7514, -6.756, -6.7755, -6.7631, -5.9817, -6.2746, -5.9951, -6.4876, -6.2763, -5.5324, -6.3011, -5.9916, -6.4935, -5.458, -5.8458, -5.8697, -6.3034, -6.1323, -6.3122, -6.3033, -5.9722, -6.1151, -6.1192, -6.1239, -6.1277, -6.0976, -6.2927, -6.3022, -6.3, -6.3087, -6.2859, -6.2649, -6.2757, -6.28, -6.29, -6.2915, -6.8663, -6.8547, -6.8777, -6.8657, -6.8757, -6.8715, -6.8656, -6.8559, -6.8995, -6.8618, -6.8631, -6.8706, -6.8579, -6.8825, -6.8674, -6.8329, -6.8854, -6.8472, -6.857, -6.8801, -6.8601, -6.8826, -6.8983, -6.8571, -6.8774, -6.8782, -6.888, -6.8855, -6.8592, -6.8779, -6.8619, -6.8488, -6.8534, -6.8621, -6.8626, -6.8595, -6.3523, -6.8652, -6.3067, -6.8738, -6.8684, -6.2307, -6.6147, -6.7596, -6.6032, -6.6668, -6.6402, -6.7226, -6.734, -6.728, -6.7393, -6.7774, -6.7426, -6.7857, -6.7765, -6.8224, -6.8073, -6.7893, -6.8007, -6.7587, -6.8394, -6.7708, -6.7808, -6.8151, -6.8116, -6.8295, -6.796, -6.7902, -6.8081, -6.8101, -6.8046, -6.8093, -6.8109], \"loglift\": [30.0, 29.0, 28.0, 27.0, 26.0, 25.0, 24.0, 23.0, 22.0, 21.0, 20.0, 19.0, 18.0, 17.0, 16.0, 15.0, 14.0, 13.0, 12.0, 11.0, 10.0, 9.0, 8.0, 7.0, 6.0, 5.0, 4.0, 3.0, 2.0, 1.0, 0.8829, 0.8527, 0.8456, 0.8423, 0.8375, 0.8055, 0.8017, 0.7894, 0.7884, 0.7859, 0.7825, 0.7601, 0.7454, 0.7305, 0.727, 0.7265, 0.7244, 0.7239, 0.7232, 0.7225, 0.7216, 0.7176, 0.7162, 0.716, 0.7154, 0.7144, 0.7136, 0.7136, 0.7133, 0.7131, 0.6993, 0.6952, 0.6913, 0.68, 0.6649, 0.6359, 0.6241, 0.6221, 0.604, 0.5495, 0.4513, 0.4688, 0.4963, 0.4793, 0.5057, 0.1039, 0.2973, 0.3108, 0.1591, 0.4225, 0.1476, 0.1431, 0.1735, 0.3248, 0.3603, -0.1354, 0.2277, 0.2191, -0.0289, 0.1627, 0.1159, 0.1159, -0.0614, -0.0984, 0.0865, 0.3436, 0.0191, 0.0053, 0.0112, -0.1097, 0.1497, 0.1525, 0.8827, 0.854, 0.8376, 0.832, 0.8139, 0.8102, 0.8092, 0.8086, 0.8081, 0.8078, 0.805, 0.8, 0.7967, 0.7951, 0.7891, 0.7885, 0.7765, 0.7627, 0.7624, 0.7415, 0.74, 0.7314, 0.731, 0.7307, 0.7295, 0.7281, 0.7271, 0.7247, 0.7213, 0.7212, 0.714, 0.6487, 0.641, 0.6117, 0.5738, 0.6383, 0.6362, 0.4555, 0.6098, 0.5286, 0.4624, 0.45, 0.442, 0.3349, 0.4845, 0.3334, 0.3296, 0.4655, 0.4064, 0.4075, 0.1659, 0.4424, 0.0627, 0.3537, 0.2016, 0.2281, 0.1459, 0.1758, 0.2418, 0.2107, 0.1658, 0.1587, 0.1307, 0.3476, 0.185, 0.9743, 0.9348, 0.9344, 0.8827, 0.8725, 0.8712, 0.8696, 0.867, 0.8613, 0.8573, 0.8572, 0.8569, 0.8569, 0.8562, 0.8562, 0.8559, 0.8558, 0.855, 0.8542, 0.852, 0.851, 0.8471, 0.8447, 0.8438, 0.8434, 0.8421, 0.8417, 0.8409, 0.8404, 0.8401, 0.8371, 0.827, 0.8321, 0.8277, 0.8258, 0.821, 0.7379, 0.6108, 0.6901, 0.6856, 0.751, 0.7436, 0.7442, 0.416, 0.7344, 0.7386, 0.3344, 0.7308, 0.7348, 0.7203, 0.3481, 0.4827, 0.3338, 0.5816, 0.4661, 0.0013, 0.4508, 0.2321, 0.5575, -0.1621, 0.0676, 0.0388, 0.3648, 0.1502, 0.3619, 0.3457, -0.1065, 0.0835, 0.045, 0.0306, -0.0046, -0.11, 0.2951, 0.2968, 0.2868, 0.286, 0.1447, -0.3577, -0.4438, -0.3755, -0.1737, -0.2586, 1.8027, 1.7894, 1.7813, 1.7768, 1.7733, 1.771, 1.7681, 1.7681, 1.7665, 1.7655, 1.7634, 1.7634, 1.7627, 1.7618, 1.7613, 1.7608, 1.7576, 1.7558, 1.7552, 1.7545, 1.7532, 1.7515, 1.7509, 1.7509, 1.75, 1.7469, 1.7468, 1.7457, 1.745, 1.745, 1.7448, 1.7422, 1.7426, 1.7384, 1.7355, 1.7214, 0.7702, 1.7217, 0.5015, 1.737, 1.7185, -0.9348, -0.749, 0.6826, -1.0695, -0.338, -0.7317, 0.0874, -0.0124, -0.2293, -0.1783, 0.3538, -0.3084, 0.481, 0.2515, 1.0455, 0.685, 0.2511, 0.4832, -0.6042, 1.3303, -0.5191, -0.3502, 0.6351, 0.4899, 1.0489, -0.0536, -0.3696, 0.3341, 0.3087, -0.163, -0.3882, -0.1619]}, \"token.table\": {\"Topic\": [1, 3, 2, 3, 1, 2, 3, 1, 2, 3, 3, 1, 2, 3, 1, 2, 3, 2, 3, 1, 2, 3, 1, 2, 3, 2, 1, 2, 3, 2, 3, 2, 1, 1, 1, 2, 3, 1, 2, 3, 1, 1, 2, 3, 2, 1, 3, 1, 3, 3, 1, 2, 3, 1, 2, 3, 1, 2, 3, 1, 2, 3, 1, 2, 1, 3, 1, 2, 3, 1, 2, 3, 3, 1, 1, 2, 3, 1, 2, 3, 2, 3, 3, 2, 3, 1, 3, 2, 3, 2, 3, 1, 2, 3, 1, 2, 3, 1, 2, 1, 1, 2, 1, 2, 3, 1, 2, 3, 2, 3, 3, 1, 2, 3, 3, 1, 2, 3, 2, 3, 1, 3, 3, 2, 1, 2, 1, 2, 3, 2, 3, 2, 2, 1, 2, 1, 1, 1, 2, 3, 1, 2, 3, 1, 2, 3, 1, 2, 3, 1, 2, 3, 1, 2, 3, 2, 1, 2, 3, 1, 2, 3, 1, 2, 3, 1, 2, 3, 2, 1, 2, 3, 2, 3, 1, 3, 1, 2, 3, 1, 2, 3, 1, 2, 1, 2, 3, 1, 2, 3, 1, 2, 3, 1, 2, 3, 1, 2, 3, 1, 3, 1, 1, 2, 1, 3, 2, 1, 3, 3, 2, 1, 2, 2, 3, 3, 1, 1, 2, 3, 1, 1, 3, 1, 2, 3, 2, 3, 1, 2, 1, 2, 3, 2, 2, 3, 2, 2, 1, 3, 2, 3, 1, 2, 3, 2, 1, 2, 1, 2, 3, 2, 1, 1, 2, 3, 3, 1, 2, 3, 1, 1, 2, 1, 2, 3, 1, 2, 3, 1, 2, 3, 1, 1, 2, 3, 2, 3, 1, 3, 1, 3, 1, 2, 3, 2, 2, 3, 1, 3, 3, 2, 3, 1, 1, 3, 1, 2, 3, 2, 3, 1, 2, 3, 1, 3, 1, 3, 3, 2, 3, 3, 1, 2, 1, 2, 3, 2, 2, 3, 2, 1, 1, 2, 3, 1, 2, 3, 1, 2, 3, 1, 3, 1, 2, 3, 1, 2, 3, 1, 1, 3, 1, 2, 3, 1, 2, 3, 1, 1, 2, 3, 3, 1, 2, 3, 1, 2, 3, 3, 1, 3, 1, 3, 1, 3, 1, 1, 2, 3, 2, 2, 1, 2, 2, 1, 2, 3, 1, 2, 3, 1, 2, 3, 2, 3, 1, 1, 2, 3, 2, 3, 3, 1, 1, 2, 3, 3, 1, 1, 2, 3, 1, 2, 3, 3, 1, 2, 3, 1, 2, 3, 1, 2, 3, 2, 3, 1, 3, 1, 1, 2, 3, 1, 2, 3], \"Freq\": [0.2946897992591197, 0.5893795985182394, 0.25622319145836725, 0.7686695743751017, 0.388996608791086, 0.194498304395543, 0.583494913186629, 0.8707508069931112, 0.7561527961007859, 0.18903819902519647, 0.4660655933370721, 0.36990487527583205, 0.5178668253861648, 0.0739809750551664, 0.28477201799369206, 0.28477201799369206, 0.42715802699053806, 0.252901868889711, 0.758705606669133, 0.4817405531319983, 0.24087027656599916, 0.24087027656599916, 0.29190929910384245, 0.4086730187453794, 0.23352743928307396, 0.7128191568796092, 0.37333402387502046, 0.5226676334250286, 0.14933360955000818, 0.7372228960273048, 0.24574096534243495, 0.5845989234218715, 0.6975311680822613, 0.9140043573024303, 0.7588903465579611, 0.1517780693115922, 0.1517780693115922, 0.3386494804529401, 0.4515326406039201, 0.16932474022647004, 0.8380162098176801, 0.39876103942370483, 0.15950441576948193, 0.39876103942370483, 0.7076021505334337, 0.8937751005870049, 0.45958102352657, 0.2992873519460971, 0.5985747038921942, 0.4639914531591079, 0.40952773788378105, 0.40952773788378105, 0.20476386894189053, 0.28056101632507624, 0.28056101632507624, 0.42084152448761436, 0.21824165708192841, 0.36373609513654737, 0.43648331416385683, 0.48066186717460463, 0.24033093358730231, 0.36049640038095343, 0.48217875437383895, 0.48217875437383895, 0.5615889965502431, 0.18719633218341436, 0.4221667900578599, 0.5427858729315341, 0.06030954143683713, 0.42864599042262336, 0.30617570744473094, 0.30617570744473094, 0.7230801005681071, 0.8941006564156594, 0.3901759860829141, 0.3901759860829141, 0.19508799304145705, 0.4134216874878658, 0.5167771093598322, 0.46503343750361137, 0.4381046321205036, 0.6571569481807554, 0.46580532064163077, 0.2943399688321032, 0.5886799376642065, 0.4323264750239787, 0.4323264750239787, 0.2535962457909434, 0.7607887373728304, 0.38334134922356244, 0.5750120238353437, 0.4139215367022268, 0.4139215367022268, 0.2069607683511134, 0.4321054344629396, 0.25926326067776373, 0.25926326067776373, 0.21391896343534994, 0.6417568903060499, 0.8951757564596123, 0.7388190466159472, 0.24627301553864908, 0.20516525541150304, 0.4103305108230061, 0.4103305108230061, 0.19092675335998913, 0.5727802600799674, 0.19092675335998913, 0.251435278196499, 0.7543058345894971, 0.4592164842649739, 0.23603991794437568, 0.39339986324062615, 0.3147198905925009, 0.4708606544927273, 0.18554357445796602, 0.37108714891593203, 0.37108714891593203, 0.6375859913793055, 0.21252866379310184, 0.2960370351609638, 0.5920740703219276, 0.7223468320689711, 0.7390822506239058, 0.47393335636119055, 0.47393335636119055, 0.43196662519663337, 0.43196662519663337, 0.17278665007865335, 0.7019278547020182, 0.46538329735810996, 0.9276710288782269, 0.7106750171059198, 0.4670742290866061, 0.4670742290866061, 0.9170099356881327, 0.866022404271562, 0.3750323906537942, 0.3750323906537942, 0.2250194343922765, 0.1302532748142085, 0.3907598244426255, 0.3907598244426255, 0.24372618045859978, 0.48745236091719957, 0.3046577255732497, 0.13877571120467494, 0.6938785560233747, 0.13877571120467494, 0.5586853960366314, 0.1862284653455438, 0.1862284653455438, 0.4989683450337985, 0.33264556335586565, 0.16632278167793282, 0.8607540663314346, 0.20886336779060524, 0.5221584194765131, 0.3132950516859079, 0.46757231429872204, 0.23378615714936102, 0.311714876199148, 0.3020829297339792, 0.37760366216747404, 0.3020829297339792, 0.3088715552131841, 0.6177431104263682, 0.10295718507106137, 0.9086630705250763, 0.43977889215280513, 0.3298341691146039, 0.21988944607640257, 0.34281145512683625, 0.34281145512683625, 0.6449095823524329, 0.2149698607841443, 0.45826006750206627, 0.366608054001653, 0.1833040270008265, 0.5105541394229621, 0.25527706971148106, 0.25527706971148106, 0.5616108298515681, 0.37440721990104536, 0.23825101678574287, 0.5956275419643572, 0.23825101678574287, 0.20702087006198164, 0.5520556534986177, 0.20702087006198164, 0.2785707740686277, 0.2785707740686277, 0.3714276987581703, 0.34867835920637585, 0.5230175388095638, 0.08716958980159396, 0.2996324116486493, 0.2996324116486493, 0.44944861747297393, 0.7096944946154883, 0.46535261973200576, 0.8938683595477606, 0.4502741674485126, 0.4502741674485126, 0.2866123059338918, 0.5732246118677836, 0.8932944354984182, 0.5509992475838278, 0.18366641586127594, 0.4643914704345754, 0.6938395527176735, 0.40876130966082036, 0.6131419644912305, 0.6391932323835252, 0.21306441079450839, 0.45909482458202233, 0.7261053892738005, 0.58505262948546, 0.234021051794184, 0.117010525897092, 0.9093176688297567, 0.6377212951474016, 0.21257376504913386, 0.4072164431694334, 0.3257731545355467, 0.3257731545355467, 0.25643052883945144, 0.7692915865183543, 0.27435157574608987, 0.6858789393652246, 0.6341962832740663, 0.12683925665481324, 0.2536785133096265, 0.6960547554022273, 0.34594381794437223, 0.34594381794437223, 0.8938346209094924, 0.9139488528587718, 0.25160854782907977, 0.7548256434872394, 0.3423070301891189, 0.3423070301891189, 0.18897201892877782, 0.37794403785755565, 0.37794403785755565, 0.9015171034096671, 0.7274043325437517, 0.24246811084791722, 0.3303598832594469, 0.41294985407430856, 0.24776991244458516, 0.7147428583825709, 0.8545095091703188, 0.25554785867174973, 0.25554785867174973, 0.3833217880076246, 0.46955857858026895, 0.27479702186741906, 0.5495940437348381, 0.13739851093370953, 0.9059294363840602, 0.5397688267866171, 0.26988441339330854, 0.24037698213383832, 0.3605654732007575, 0.3605654732007575, 0.284699783411195, 0.56939956682239, 0.284699783411195, 0.19101427931716014, 0.3820285586343203, 0.5730428379514804, 0.9063507651116546, 0.2657079574716164, 0.35427727662882186, 0.35427727662882186, 0.5753788884582124, 0.19179296281940414, 0.8937132474256589, 0.46948841786224593, 0.30234921459148867, 0.6046984291829773, 0.2931921690977451, 0.41884595585392154, 0.2931921690977451, 0.6961309161711322, 0.4368975444596293, 0.4368975444596293, 0.25505106544104816, 0.7651531963231445, 0.4698825313027302, 0.9024523459661681, 0.47317409033760915, 0.6870965147803846, 0.7277417274082895, 0.24258057580276315, 0.2832387779222051, 0.2832387779222051, 0.42485816688330763, 0.7554836507685105, 0.18887091269212763, 0.28243400264519136, 0.5648680052903827, 0.28243400264519136, 0.5615747853421779, 0.28078739267108893, 0.29530875517071636, 0.5906175103414327, 0.4490758098824237, 0.34915762792030003, 0.34915762792030003, 0.4601127758712819, 0.5094245147856024, 0.5094245147856024, 0.40825348085077195, 0.48990417702092637, 0.1633013923403088, 0.700220700981402, 0.8687577747888187, 0.4664828640225846, 0.7052335138957776, 0.9158008120297632, 0.327851515095892, 0.5464191918264867, 0.10928383836529733, 0.2061533119172286, 0.5153832797930715, 0.3092299678758429, 0.25052494194613406, 0.33403325592817873, 0.33403325592817873, 0.345857443440826, 0.691714886881652, 0.4259839438588735, 0.3651290947361773, 0.18256454736808864, 0.9047021981841817, 0.2542795265534469, 0.7628385796603406, 0.8962679229078058, 0.7296137782881434, 0.24320459276271447, 0.5549617025292977, 0.27748085126464883, 0.13874042563232442, 0.41850480002974205, 0.41850480002974205, 0.20925240001487103, 0.7033694250236879, 0.21860927782921774, 0.21860927782921774, 0.6558278334876532, 0.46666945381628977, 0.2420361716907635, 0.36305425753614523, 0.36305425753614523, 0.38833430265319874, 0.29125072698989907, 0.29125072698989907, 0.46797928016395784, 0.30118835997439486, 0.6023767199487897, 0.9134311336003541, 0.4629581826220754, 0.490743246213859, 0.490743246213859, 0.8582119146318783, 0.39625667860621866, 0.3632352887223671, 0.2311497291869609, 0.9025673533044924, 0.8759230037350675, 0.7282135985893251, 0.2427378661964417, 0.8569915187421787, 0.2431007098737758, 0.36465106481066367, 0.36465106481066367, 0.13101479683856243, 0.3930443905156873, 0.3930443905156873, 0.24013576655611035, 0.36020364983416553, 0.36020364983416553, 0.559931792407665, 0.37328786160511, 0.9016289968699214, 0.25762823642580573, 0.5152564728516115, 0.1717521576172038, 0.2958076624557757, 0.5916153249115514, 0.45697623436618745, 0.9018482075140666, 0.3050576817693894, 0.508429469615649, 0.10168589392312981, 0.46403105969742814, 0.7008716586725054, 0.2771757183043066, 0.6929392957607665, 0.1385878591521533, 0.32976138978676917, 0.395713667744123, 0.2638091118294153, 0.4696107814211329, 0.5450944311867426, 0.2725472155933713, 0.2725472155933713, 0.4573144080101866, 0.2743886448061119, 0.2743886448061119, 0.5087119057986037, 0.20348476231944151, 0.20348476231944151, 0.6950959771962146, 0.8908515692121732, 0.42730786544831056, 0.5697438205977474, 0.7046086991675987, 0.41080036365022066, 0.20540018182511033, 0.3081002727376655, 0.3034455679484613, 0.48551290871753805, 0.18206734076907677], \"Term\": [\"across\", \"across\", \"activation\", \"activation\", \"acute\", \"acute\", \"acute\", \"additionally\", \"admission\", \"admission\", \"adolescent\", \"age\", \"age\", \"age\", \"aimed\", \"aimed\", \"aimed\", \"along\", \"along\", \"also\", \"also\", \"also\", \"among\", \"among\", \"among\", \"analgesic\", \"analysis\", \"analysis\", \"analysis\", \"anti\", \"anti\", \"antipyretic\", \"aor\", \"article\", \"assessed\", \"assessed\", \"assessed\", \"associated\", \"associated\", \"associated\", \"barrier\", \"based\", \"based\", \"based\", \"better\", \"birth\", \"bladder\", \"brain\", \"brain\", \"brief\", \"cancer\", \"cancer\", \"cancer\", \"care\", \"care\", \"care\", \"case\", \"case\", \"case\", \"characteristic\", \"characteristic\", \"characteristic\", \"characterized\", \"characterized\", \"child\", \"child\", \"ci\", \"ci\", \"ci\", \"clinical\", \"clinical\", \"clinical\", \"cm\", \"coded\", \"cohort\", \"cohort\", \"cohort\", \"compared\", \"compared\", \"conserved\", \"coronavirus\", \"coronavirus\", \"coronaviruses\", \"cough\", \"cough\", \"could\", \"could\", \"cov\", \"cov\", \"covid\", \"covid\", \"cross\", \"cross\", \"cross\", \"data\", \"data\", \"data\", \"december\", \"december\", \"define\", \"degree\", \"degree\", \"demonstrated\", \"demonstrated\", \"demonstrated\", \"department\", \"department\", \"department\", \"described\", \"described\", \"detection\", \"diagnosis\", \"diagnosis\", \"diagnosis\", \"discus\", \"disease\", \"disease\", \"disease\", \"drug\", \"drug\", \"efficacy\", \"efficacy\", \"em\", \"emergency\", \"end\", \"end\", \"evaluated\", \"evaluated\", \"evaluated\", \"evaluating\", \"evolving\", \"examination\", \"exclusion\", \"experience\", \"experience\", \"exponential\", \"extracted\", \"factor\", \"factor\", \"factor\", \"female\", \"female\", \"female\", \"fever\", \"fever\", \"fever\", \"follow\", \"follow\", \"follow\", \"future\", \"future\", \"future\", \"general\", \"general\", \"general\", \"grade\", \"group\", \"group\", \"group\", \"headache\", \"headache\", \"headache\", \"high\", \"high\", \"high\", \"higher\", \"higher\", \"higher\", \"holocranial\", \"however\", \"however\", \"however\", \"human\", \"human\", \"identification\", \"identification\", \"identified\", \"identified\", \"identified\", \"identify\", \"identify\", \"identify\", \"important\", \"important\", \"incidence\", \"incidence\", \"incidence\", \"included\", \"included\", \"included\", \"including\", \"including\", \"including\", \"increased\", \"increased\", \"increased\", \"infection\", \"infection\", \"infection\", \"institution\", \"insufficiency\", \"intrapartum\", \"investigate\", \"investigate\", \"least\", \"least\", \"leukocytosis\", \"level\", \"level\", \"like\", \"longer\", \"low\", \"low\", \"lower\", \"lower\", \"lsm\", \"majority\", \"management\", \"management\", \"management\", \"manual\", \"many\", \"many\", \"may\", \"may\", \"may\", \"mechanism\", \"mechanism\", \"median\", \"median\", \"medical\", \"medical\", \"medical\", \"meningitis\", \"minute\", \"minute\", \"mm\", \"modifying\", \"molecular\", \"molecular\", \"morbidity\", \"morbidity\", \"mortality\", \"mortality\", \"mortality\", \"multicenter\", \"national\", \"national\", \"neoplasm\", \"neoplasm\", \"neoplasm\", \"neurological\", \"neurology\", \"new\", \"new\", \"new\", \"nociceptive\", \"non\", \"non\", \"non\", \"obesity\", \"objective\", \"objective\", \"observed\", \"observed\", \"observed\", \"occurring\", \"occurring\", \"occurring\", \"old\", \"old\", \"old\", \"older\", \"one\", \"one\", \"one\", \"onset\", \"onset\", \"optimize\", \"organ\", \"paper\", \"paper\", \"patient\", \"patient\", \"patient\", \"period\", \"phase\", \"phase\", \"point\", \"point\", \"potentially\", \"pr\", \"preceding\", \"predisposition\", \"presence\", \"presence\", \"present\", \"present\", \"present\", \"presenting\", \"presenting\", \"prevalence\", \"prevalence\", \"prevalence\", \"prospective\", \"prospective\", \"protein\", \"protein\", \"quickly\", \"rare\", \"rare\", \"rarely\", \"rate\", \"rate\", \"ratio\", \"ratio\", \"ratio\", \"reaction\", \"recorded\", \"recruited\", \"recurrent\", \"represented\", \"respectively\", \"respectively\", \"respectively\", \"response\", \"response\", \"response\", \"result\", \"result\", \"result\", \"review\", \"review\", \"risk\", \"risk\", \"risk\", \"rrs\", \"sars\", \"sars\", \"school\", \"search\", \"search\", \"second\", \"second\", \"second\", \"sectional\", \"sectional\", \"sectional\", \"selected\", \"setting\", \"setting\", \"setting\", \"several\", \"significant\", \"significant\", \"significant\", \"significantly\", \"significantly\", \"significantly\", \"simulation\", \"specifically\", \"specifically\", \"st\", \"start\", \"state\", \"state\", \"stratified\", \"study\", \"study\", \"study\", \"subgroup\", \"subsided\", \"survey\", \"survey\", \"survival\", \"survivor\", \"survivor\", \"survivor\", \"symptom\", \"symptom\", \"symptom\", \"system\", \"system\", \"system\", \"temperature\", \"temperature\", \"tertile\", \"time\", \"time\", \"time\", \"tissue\", \"tissue\", \"together\", \"top\", \"total\", \"total\", \"total\", \"tract\", \"training\", \"treated\", \"treated\", \"treated\", \"treatment\", \"treatment\", \"treatment\", \"unclear\", \"use\", \"use\", \"use\", \"used\", \"used\", \"used\", \"using\", \"using\", \"using\", \"uterine\", \"viral\", \"well\", \"well\", \"whole\", \"within\", \"within\", \"within\", \"year\", \"year\", \"year\"]}, \"R\": 30, \"lambda.step\": 0.01, \"plot.opts\": {\"xlab\": \"PC1\", \"ylab\": \"PC2\"}, \"topic.order\": [4, 2, 3, 1]};\n",
       "\n",
       "function LDAvis_load_lib(url, callback){\n",
       "  var s = document.createElement('script');\n",
       "  s.src = url;\n",
       "  s.async = true;\n",
       "  s.onreadystatechange = s.onload = callback;\n",
       "  s.onerror = function(){console.warn(\"failed to load library \" + url);};\n",
       "  document.getElementsByTagName(\"head\")[0].appendChild(s);\n",
       "}\n",
       "\n",
       "if(typeof(LDAvis) !== \"undefined\"){\n",
       "   // already loaded: just create the visualization\n",
       "   !function(LDAvis){\n",
       "       new LDAvis(\"#\" + \"ldavis_el1206821649788660969624461470\", ldavis_el1206821649788660969624461470_data);\n",
       "   }(LDAvis);\n",
       "}else if(typeof define === \"function\" && define.amd){\n",
       "   // require.js is available: use it to load d3/LDAvis\n",
       "   require.config({paths: {d3: \"https://d3js.org/d3.v5\"}});\n",
       "   require([\"d3\"], function(d3){\n",
       "      window.d3 = d3;\n",
       "      LDAvis_load_lib(\"https://cdn.jsdelivr.net/gh/bmabey/pyLDAvis@3.3.1/pyLDAvis/js/ldavis.v3.0.0.js\", function(){\n",
       "        new LDAvis(\"#\" + \"ldavis_el1206821649788660969624461470\", ldavis_el1206821649788660969624461470_data);\n",
       "      });\n",
       "    });\n",
       "}else{\n",
       "    // require.js not available: dynamically load d3 & LDAvis\n",
       "    LDAvis_load_lib(\"https://d3js.org/d3.v5.js\", function(){\n",
       "         LDAvis_load_lib(\"https://cdn.jsdelivr.net/gh/bmabey/pyLDAvis@3.3.1/pyLDAvis/js/ldavis.v3.0.0.js\", function(){\n",
       "                 new LDAvis(\"#\" + \"ldavis_el1206821649788660969624461470\", ldavis_el1206821649788660969624461470_data);\n",
       "            })\n",
       "         });\n",
       "}\n",
       "</script>"
      ],
      "text/plain": [
       "PreparedData(topic_coordinates=                x           y  topics  cluster       Freq\n",
       "topic                                                    \n",
       "3      269.562408 -124.803398       1        1  34.495195\n",
       "1        1.782994 -295.079681       2        1  33.951020\n",
       "2      220.811432 -343.832123       3        1  28.818313\n",
       "0       50.533993  -76.050934       4        1   2.735472, topic_info=              Term      Freq     Total Category  logprob  loglift\n",
       "1065     infection  6.000000  6.000000  Default  30.0000  30.0000\n",
       "566   demonstrated  4.000000  4.000000  Default  29.0000  29.0000\n",
       "2410         viral  3.000000  3.000000  Default  28.0000  28.0000\n",
       "511          covid  5.000000  5.000000  Default  27.0000  27.0000\n",
       "2228   temperature  5.000000  5.000000  Default  26.0000  26.0000\n",
       "...            ...       ...       ...      ...      ...      ...\n",
       "1999     sectional  0.182588  4.778918   Topic4  -6.8081   0.3341\n",
       "1227           low  0.182240  4.892831   Topic4  -6.8101   0.3087\n",
       "1293       medical  0.183236  7.883994   Topic4  -6.8046  -0.1630\n",
       "2374         using  0.182372  9.828746   Topic4  -6.8093  -0.3882\n",
       "1434           new  0.182082  7.826323   Topic4  -6.8109  -0.1619\n",
       "\n",
       "[322 rows x 6 columns], token_table=      Topic      Freq        Term\n",
       "term                             \n",
       "29        1  0.294690      across\n",
       "29        3  0.589380      across\n",
       "33        2  0.256223  activation\n",
       "33        3  0.768670  activation\n",
       "38        1  0.388997       acute\n",
       "...     ...       ...         ...\n",
       "2437      2  0.205400      within\n",
       "2437      3  0.308100      within\n",
       "2450      1  0.303446        year\n",
       "2450      2  0.485513        year\n",
       "2450      3  0.182067        year\n",
       "\n",
       "[426 rows x 3 columns], R=30, lambda_step=0.01, plot_opts={'xlab': 'PC1', 'ylab': 'PC2'}, topic_order=[4, 2, 3, 1])"
      ]
     },
     "execution_count": 30,
     "metadata": {},
     "output_type": "execute_result"
    }
   ],
   "source": [
    "pyLDAvis.sklearn.prepare(lda_tf, X, my_vectorizer,mds=\"tsne\")"
   ]
  },
  {
   "cell_type": "code",
   "execution_count": 24,
   "metadata": {},
   "outputs": [
    {
     "name": "stdout",
     "output_type": "stream",
     "text": [
      "[[0.48200329 0.40465584 0.44530664 ... 0.39790286 0.41627644 0.41220285]\n",
      " [1.14356029 0.38719975 0.37670671 ... 1.20752751 1.18631362 0.39534101]\n",
      " [0.40514929 0.44206748 0.41139495 ... 1.99708898 0.42447079 0.42401621]\n",
      " [0.38983284 1.15438616 1.16640499 ... 0.41375367 1.20429282 1.17506831]]\n"
     ]
    }
   ],
   "source": [
    "print(lda_tf.components_)"
   ]
  },
  {
   "cell_type": "code",
   "execution_count": 25,
   "metadata": {},
   "outputs": [],
   "source": [
    "from DashMed.parser import parser"
   ]
  },
  {
   "cell_type": "code",
   "execution_count": 26,
   "metadata": {},
   "outputs": [
    {
     "data": {
      "text/plain": [
       "'Study on perinatal-related factors of maternity and newborn in parturients with intrapartum fever in part of Eastern China: A cross-sectional study.'"
      ]
     },
     "execution_count": 26,
     "metadata": {},
     "output_type": "execute_result"
    }
   ],
   "source": [
    "parser.parse_article(dataloader.articles[0])['ArticleTitle']"
   ]
  },
  {
   "cell_type": "code",
   "execution_count": 27,
   "metadata": {},
   "outputs": [],
   "source": [
    "import DashMed.model1"
   ]
  },
  {
   "cell_type": "code",
   "execution_count": 28,
   "metadata": {},
   "outputs": [
    {
     "data": {
      "text/plain": [
       "'Maternal intrapartum fever has a serious impact on mother and child. However, the corresponding study seems to be in short. The role of inflammatory cells in patients who were diagnosed with intrapartum fever lived in part of Eastern China was evaluated. The obstetrics outcomes, complete blood cell count (CBC) and thereby converted neutrophil to lymphocyte ratio (NLR), platelet to lymphocyte ratio, monocyte to lymphocyte ratio (MLR), and vaginal secretion were compared in different groups. Prepartum values of white blood cell (WBC), red blood cell (RBC), and hemoglobin (Hb) were all a little higher in the febrile group than in the afebrile group, and postpartum WBC in the afebrile group was still higher while postpartum RBC and Hb were inferior to non-fever maternity. Postpartum NLR and MLR were all higher in the fever group but not preferred overtly difference before delivery. Additionally, the comparison of WBC, RBC, Hb, platelets, neutrophils, and monocytes in prepartum and postpartum all showed significant differences. The parturition could bring about the value change of CBC and intrapartum fever might aggravate or alleviate this change. Besides, the intrapartum fever might not be caused mainly by infection and the difference between bacteria and fungus could reflect in the CBC.'"
      ]
     },
     "execution_count": 28,
     "metadata": {},
     "output_type": "execute_result"
    }
   ],
   "source": [
    "' '.join(parser.parse_article(dataloader.articles[0])['AbstractText'])"
   ]
  },
  {
   "cell_type": "code",
   "execution_count": 29,
   "metadata": {},
   "outputs": [
    {
     "data": {
      "text/plain": [
       "[{'article': 0,\n",
       "  'Title': 'Study on perinatal-related factors of maternity and newborn in parturients with intrapartum fever in part of Eastern China: A cross-sectional study.',\n",
       "  'sim': 0.965949706481049,\n",
       "  'ratio': 1.0,\n",
       "  'tokens': [('Additionally', 0.16872918604057827),\n",
       "   ('Afebrile', 0.19323135454141294),\n",
       "   ('Aggravate', 0.21267981980600295),\n",
       "   ('Alleviate', 0.21267981980600295),\n",
       "   ('Bacteria', 0.21267981980600295)]},\n",
       " {'article': 11,\n",
       "  'Title': 'Outcomes associated with antibiotic administration for isolated maternal fever in labor.',\n",
       "  'sim': 0.09493432315277536,\n",
       "  'ratio': 0.0982808137067723,\n",
       "  'tokens': []},\n",
       " {'article': 15,\n",
       "  'Title': 'Predictors of fever response in tuberculous meningitis: A clinical, MRI and biomarker study.',\n",
       "  'sim': 0.07338099785089865,\n",
       "  'ratio': 0.07596772105063868,\n",
       "  'tokens': [('Afebrile', 1.0)]},\n",
       " {'article': 7,\n",
       "  'Title': 'Comparison of intravenous ibuprofen and paracetamol in the treatment of fever: A randomized double-blind study.',\n",
       "  'sim': 0.06773880656821232,\n",
       "  'ratio': 0.07012663921705047,\n",
       "  'tokens': []},\n",
       " {'article': 12,\n",
       "  'Title': 'Autosomal dominant familial periodic fever patient with a missense variant c.215G>A (p.Cys72Tyr) in TNFRSF1A gene presenting as neutrophilia.',\n",
       "  'sim': 0.06467039888917195,\n",
       "  'ratio': 0.0669500683682238,\n",
       "  'tokens': []}]"
      ]
     },
     "execution_count": 29,
     "metadata": {},
     "output_type": "execute_result"
    }
   ],
   "source": [
    "DashMed.model1.get_best_articles('Maternal intrapartum fever has a serious impact on mother and child. However, the corresponding study seems to be in short. The role of inflammatory cells in patients who were diagnosed with intrapartum fever lived in part of Eastern China was evaluated. The obstetrics outcomes, complete blood cell count (CBC) and thereby converted neutrophil to lymphocyte ratio (NLR), platelet to lymphocyte ratio, monocyte to lymphocyte ratio (MLR), and vaginal secretion were compared in different groups. Prepartum values of white blood cell (WBC), red blood cell (RBC), and hemoglobin (Hb) were all a little higher in the febrile group than in the afebrile group, and postpartum WBC in the afebrile group was still higher while postpartum RBC and Hb were inferior to non-fever maternity. Postpartum NLR and MLR were all higher in the fever group but not preferred overtly difference before delivery. Additionally, the comparison of WBC, RBC, Hb, platelets, neutrophils, and monocytes in prepartum and postpartum all showed significant differences. The parturition could bring about the value change of CBC and intrapartum fever might aggravate or alleviate this change. Besides, the intrapartum fever might not be caused mainly by infection and the difference between bacteria and fungus could reflect in the CBC.')"
   ]
  },
  {
   "cell_type": "code",
   "execution_count": null,
   "metadata": {},
   "outputs": [],
   "source": []
  }
 ],
 "metadata": {
  "interpreter": {
   "hash": "e717af6afc4d544ff4a59903c7b293a5cb943c2b1e6ca127459dd762664780fb"
  },
  "kernelspec": {
   "display_name": "Python 3.8.12 ('myter')",
   "language": "python",
   "name": "python3"
  },
  "language_info": {
   "codemirror_mode": {
    "name": "ipython",
    "version": 3
   },
   "file_extension": ".py",
   "mimetype": "text/x-python",
   "name": "python",
   "nbconvert_exporter": "python",
   "pygments_lexer": "ipython3",
   "version": "3.8.12"
  },
  "orig_nbformat": 4
 },
 "nbformat": 4,
 "nbformat_minor": 2
}
